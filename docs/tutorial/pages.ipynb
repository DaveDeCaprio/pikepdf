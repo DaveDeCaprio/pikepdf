{
 "cells": [
  {
   "cell_type": "markdown",
   "metadata": {},
   "source": [
    "## Manipulating pages"
   ]
  },
  {
   "cell_type": "markdown",
   "metadata": {},
   "source": [
    "pikepdf presents the pages in a PDF through the ``Pdf.pages`` property, which\n",
    "follows the ``list`` protocol. As such page numbers begin at 0.\n",
    "\n",
    "Let's look at a simple PDF that contains four pages."
   ]
  },
  {
   "cell_type": "code",
   "execution_count": null,
   "metadata": {},
   "outputs": [],
   "source": [
    "from pikepdf import Pdf\n",
    "pdf = Pdf.open('../tests/resources/fourpages.pdf')"
   ]
  },
  {
   "cell_type": "markdown",
   "metadata": {},
   "source": [
    "How many pages?"
   ]
  },
  {
   "cell_type": "code",
   "execution_count": null,
   "metadata": {},
   "outputs": [],
   "source": [
    "len(pdf.pages)"
   ]
  },
  {
   "cell_type": "markdown",
   "metadata": {},
   "source": [
    "Thanks to IPython's rich Python object representations we can view the PDF while we work on it. Click the *View PDF* link below to view the file."
   ]
  },
  {
   "cell_type": "code",
   "execution_count": null,
   "metadata": {},
   "outputs": [],
   "source": [
    "pdf"
   ]
  },
  {
   "cell_type": "markdown",
   "metadata": {},
   "source": [
    "Suppose the file was scanned backwards. We can easily reverse it in place - maybe it was scanned backwards, a common problem with automatic document scanners. "
   ]
  },
  {
   "cell_type": "code",
   "execution_count": null,
   "metadata": {},
   "outputs": [],
   "source": [
    "pdf.pages.reverse()"
   ]
  },
  {
   "cell_type": "code",
   "execution_count": null,
   "metadata": {},
   "outputs": [],
   "source": [
    "pdf"
   ]
  },
  {
   "cell_type": "markdown",
   "metadata": {},
   "source": [
    "Pretty nice, isn't it? Of course, that's wrong for this file, so let's reverse the pages again to fix it."
   ]
  },
  {
   "cell_type": "code",
   "execution_count": null,
   "metadata": {},
   "outputs": [],
   "source": [
    "pdf.pages.reverse()"
   ]
  },
  {
   "cell_type": "markdown",
   "metadata": {},
   "source": [
    "Removing and adding pages is easy too."
   ]
  },
  {
   "cell_type": "code",
   "execution_count": null,
   "metadata": {},
   "outputs": [],
   "source": [
    "del pdf.pages[1:3]  # Remove pages 2-3 labeled \"second page\" and \"third page\""
   ]
  },
  {
   "cell_type": "code",
   "execution_count": null,
   "metadata": {},
   "outputs": [],
   "source": [
    "pdf"
   ]
  },
  {
   "cell_type": "markdown",
   "metadata": {},
   "source": [
    "We've trimmed down the file to its essential first and last page. Now, let's add some content from another file."
   ]
  },
  {
   "cell_type": "code",
   "execution_count": null,
   "metadata": {},
   "outputs": [],
   "source": [
    "appendix = Pdf.open('../tests/resources/sandwich.pdf')\n",
    "pdf.pages.extend(appendix.pages)\n",
    "pdf"
   ]
  },
  {
   "cell_type": "markdown",
   "metadata": {},
   "source": [
    "### Using counting numbers for pages"
   ]
  },
  {
   "cell_type": "markdown",
   "metadata": {},
   "source": [
    "Because PDF pages are usually numbered in counting numbers (1, 2, 3...), pikepdf\n",
    "provides a convenience accessor ``.p()`` that uses counting numbers:"
   ]
  },
  {
   "cell_type": "code",
   "execution_count": null,
   "metadata": {},
   "outputs": [],
   "source": [
    "pdf.pages.p(1)        # The first page in the document\n",
    "pdf.pages[0]          # Also the first page in the document"
   ]
  },
  {
   "cell_type": "markdown",
   "metadata": {},
   "source": [
    "To avoid confusion, the ``.p()`` accessor does not accept Python slices, and ``.p(0)`` raises an exception.\n",
    "\n",
    "PDFs may define their own numbering scheme or different numberings for\n",
    "different sections. ``.pages`` does not look up this information.\n",
    "\n",
    "Because of technical limitations in underlying libraries, pikepdf keeps the\n",
    "original PDF from which a page from open, even if the reference to the PDF\n",
    "is garbage collected. In the first example above, because ``report`` is\n",
    "borrowing pages from ``appendix``, ``appendix`` will be kept alive until\n",
    "``report`` goes out of scope.\n",
    "\n",
    "It's possible to obtain page information through the PDF ``/Root`` object as\n",
    "well, but not recommend. The internal consistency of the various ``/Page``\n",
    "and ``/Pages`` is not guaranteed when accessed in this manner, and in some\n",
    "PDFs the data structure for these is fairly complex. Use the ``.pages``\n",
    "interface."
   ]
  }
 ],
 "metadata": {
  "kernelspec": {
   "display_name": "pikepdf",
   "language": "python",
   "name": "pikepdf"
  },
  "language_info": {
   "codemirror_mode": {
    "name": "ipython",
    "version": 3
   },
   "file_extension": ".py",
   "mimetype": "text/x-python",
   "name": "python",
   "nbconvert_exporter": "python",
   "pygments_lexer": "ipython3",
   "version": "3.7.0"
  }
 },
 "nbformat": 4,
 "nbformat_minor": 2
}
